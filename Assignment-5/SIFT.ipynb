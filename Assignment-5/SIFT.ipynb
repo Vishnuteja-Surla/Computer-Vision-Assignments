{
 "cells": [
  {
   "cell_type": "markdown",
   "source": [
    "## 1. Take 10 images in different orientation of 10 different persons. So total you will have 10 x 10 = 100 images (dataset)\n",
    "\n",
    "## 2. Take two test images of 10 person. In test data you will have 20 images\n",
    "\n",
    "## 3. Match the test image with dataset images using SIFT and find the accuracy.\n",
    "\n",
    "### Note : To match SIFT features, you can use Euclidean Distance"
   ],
   "metadata": {
    "collapsed": false
   }
  },
  {
   "cell_type": "markdown",
   "source": [
    "# Code:-"
   ],
   "metadata": {
    "collapsed": false
   }
  },
  {
   "cell_type": "markdown",
   "source": [
    "## Importing Libraries"
   ],
   "metadata": {
    "collapsed": false
   }
  },
  {
   "cell_type": "code",
   "execution_count": 5,
   "metadata": {
    "collapsed": true
   },
   "outputs": [],
   "source": [
    "import cv2\n",
    "import numpy as np\n",
    "import matplotlib.pyplot as plt"
   ]
  },
  {
   "cell_type": "markdown",
   "source": [
    "## Defining required Classes and Function"
   ],
   "metadata": {
    "collapsed": false
   }
  },
  {
   "cell_type": "code",
   "execution_count": null,
   "outputs": [],
   "source": [
    "def get_features(sift, img):\n",
    "    gray = cv2.cvtColor(img, cv2.COLOR_BGR2GRAY)\n",
    "    keypoints, descriptors = sift.detectAndCompute(gray, None)\n",
    "    return (keypoints, descriptors)"
   ],
   "metadata": {
    "collapsed": false
   }
  },
  {
   "cell_type": "code",
   "execution_count": null,
   "outputs": [],
   "source": [
    "def match_features(test_descriptor, dataset_descriptor):\n",
    "    bf = cv2.BFMatcher()\n",
    "    matches = bf.knnMatch(test_descriptor, dataset_descriptor, k=2)\n",
    "    good = []\n",
    "    for m, n in matches:\n",
    "        if m.distance < 0.75*n.distance:\n",
    "            good.append(m)\n",
    "    return good"
   ],
   "metadata": {
    "collapsed": false
   }
  },
  {
   "cell_type": "markdown",
   "source": [
    "## Creating the Dataset"
   ],
   "metadata": {
    "collapsed": false
   }
  },
  {
   "cell_type": "markdown",
   "source": [
    "### 1. Load the Images"
   ],
   "metadata": {
    "collapsed": false
   }
  },
  {
   "cell_type": "code",
   "execution_count": 8,
   "outputs": [],
   "source": [
    "dataset_images = []\n",
    "for i in range(10):\n",
    "    for j in range(10):\n",
    "        dataset_images.append(cv2.imread(f'Images/p{i}i{j}.jpg'))"
   ],
   "metadata": {
    "collapsed": false
   }
  },
  {
   "cell_type": "markdown",
   "source": [
    "### 2. Create test images and train images"
   ],
   "metadata": {
    "collapsed": false
   }
  },
  {
   "cell_type": "code",
   "execution_count": 9,
   "outputs": [],
   "source": [
    "test_images = []\n",
    "train_images = []\n",
    "i = 0\n",
    "for img in dataset_images:\n",
    "    i += 1\n",
    "    if (i%10 == 1) or (i%10 == 2):\n",
    "        test_images.append(img)\n",
    "    else:\n",
    "        train_images.append(img)"
   ],
   "metadata": {
    "collapsed": false
   }
  },
  {
   "cell_type": "markdown",
   "source": [
    "## Create a SIFT detector"
   ],
   "metadata": {
    "collapsed": false
   }
  },
  {
   "cell_type": "code",
   "execution_count": 7,
   "outputs": [],
   "source": [
    "sift = cv2.SIFT_create()"
   ],
   "metadata": {
    "collapsed": false
   }
  },
  {
   "cell_type": "markdown",
   "source": [
    "## Performing the Matching"
   ],
   "metadata": {
    "collapsed": false
   }
  },
  {
   "cell_type": "code",
   "execution_count": null,
   "outputs": [],
   "source": [
    "dataset_features = []\n",
    "for img in dataset_images:\n",
    "    dataset_features.append(get_features(sift, img))"
   ],
   "metadata": {
    "collapsed": false
   }
  },
  {
   "cell_type": "code",
   "execution_count": null,
   "outputs": [],
   "source": [
    "test_features = []\n",
    "for img in test_images:\n",
    "    test_features.append(get_features(sift, img))"
   ],
   "metadata": {
    "collapsed": false
   }
  },
  {
   "cell_type": "code",
   "execution_count": 17,
   "outputs": [],
   "source": [
    "total_matches = 0\n",
    "correct_matches = 0"
   ],
   "metadata": {
    "collapsed": false
   }
  },
  {
   "cell_type": "code",
   "execution_count": null,
   "outputs": [],
   "source": [
    "for i in range(len(test_images)):\n",
    "    best_matches = []\n",
    "    for j in range(len(dataset_images)):\n",
    "        matches = match_features(test_features[i][1], dataset_features[j][1])\n",
    "        best_matches.append(len(matches))\n",
    "    best_match_idx = np.argmax(best_matches)\n",
    "    if best_match_idx // 10 == i // 2:\n",
    "        correct_matches += 1"
   ],
   "metadata": {
    "collapsed": false
   }
  },
  {
   "cell_type": "markdown",
   "source": [
    "## Accuracy"
   ],
   "metadata": {
    "collapsed": false
   }
  },
  {
   "cell_type": "code",
   "execution_count": null,
   "outputs": [],
   "source": [
    "accuracy = (correct_matches / 20) * 100\n",
    "print(f'Accuracy: {accuracy}%')"
   ],
   "metadata": {
    "collapsed": false
   }
  }
 ],
 "metadata": {
  "kernelspec": {
   "display_name": "Python 3",
   "language": "python",
   "name": "python3"
  },
  "language_info": {
   "codemirror_mode": {
    "name": "ipython",
    "version": 2
   },
   "file_extension": ".py",
   "mimetype": "text/x-python",
   "name": "python",
   "nbconvert_exporter": "python",
   "pygments_lexer": "ipython2",
   "version": "2.7.6"
  }
 },
 "nbformat": 4,
 "nbformat_minor": 0
}
